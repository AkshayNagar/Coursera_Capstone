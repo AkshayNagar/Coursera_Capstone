{
 "cells": [
  {
   "cell_type": "markdown",
   "metadata": {},
   "source": [
    "#                               Battle of Neighborhood"
   ]
  },
  {
   "cell_type": "markdown",
   "metadata": {},
   "source": [
    "## Data Required for this project"
   ]
  },
  {
   "cell_type": "markdown",
   "metadata": {},
   "source": [
    "For this capstone, I will be using FourSquare API to pull out following data on restaurants in NewYork:\n",
    "    \n",
    "    1. Restaurant Name\n",
    "    2. Restaurant ID\n",
    "    3. Restaurant Location\n",
    "    4. Category of the Restaurant ( we'll be deciding this )\n",
    "    5. Total like count."
   ]
  },
  {
   "cell_type": "markdown",
   "metadata": {},
   "source": [
    "To get aforementioned data we need follow below steps:\n",
    "    1. First get latitude and longitude of NewYork City using 'Geopy' package.\n",
    "    2. Using geographical co-ordinates , we can fetch all nearby venues. ( using FourSquare APIs Ofcourse )"
   ]
  },
  {
   "cell_type": "code",
   "execution_count": null,
   "metadata": {},
   "outputs": [],
   "source": []
  }
 ],
 "metadata": {
  "kernelspec": {
   "display_name": "Python 3",
   "language": "python",
   "name": "python3"
  },
  "language_info": {
   "codemirror_mode": {
    "name": "ipython",
    "version": 3
   },
   "file_extension": ".py",
   "mimetype": "text/x-python",
   "name": "python",
   "nbconvert_exporter": "python",
   "pygments_lexer": "ipython3",
   "version": "3.7.1"
  }
 },
 "nbformat": 4,
 "nbformat_minor": 2
}
